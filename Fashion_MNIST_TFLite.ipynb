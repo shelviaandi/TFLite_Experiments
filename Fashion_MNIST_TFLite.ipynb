{
  "nbformat": 4,
  "nbformat_minor": 0,
  "metadata": {
    "colab": {
      "name": "Fashion_MNIST_TFLite.ipynb",
      "provenance": [],
      "collapsed_sections": [],
      "authorship_tag": "ABX9TyPqmhcTuUzppdK61FX5e8rT",
      "include_colab_link": true
    },
    "kernelspec": {
      "name": "python3",
      "display_name": "Python 3"
    },
    "accelerator": "GPU"
  },
  "cells": [
    {
      "cell_type": "markdown",
      "metadata": {
        "id": "view-in-github",
        "colab_type": "text"
      },
      "source": [
        "<a href=\"https://colab.research.google.com/github/shelviaandi/TFLite_Experiments/blob/master/Fashion_MNIST_TFLite.ipynb\" target=\"_parent\"><img src=\"https://colab.research.google.com/assets/colab-badge.svg\" alt=\"Open In Colab\"/></a>"
      ]
    },
    {
      "cell_type": "code",
      "metadata": {
        "id": "qcOWibBo72pQ",
        "colab_type": "code",
        "colab": {
          "base_uri": "https://localhost:8080/",
          "height": 105
        },
        "outputId": "6cd965dc-779b-414e-8c6c-741deb7d8034"
      },
      "source": [
        "import tensorflow as tf\n",
        "import tensorflow_datasets as tfds\n",
        "tfds.disable_progress_bar()\n",
        "\n",
        "import numpy as np\n",
        "import matplotlib.pyplot as plt\n",
        "import pathlib\n",
        "\n",
        "from os import getcwd\n",
        "\n",
        "print('\\u2022 using TensorFlow Version: ', tf.__version__)\n",
        "print('\\u2022 GPU Device Found.' if tf.test.is_gpu_available() else '\\u2022 GPU Device Not Found. Running on CPU')"
      ],
      "execution_count": 1,
      "outputs": [
        {
          "output_type": "stream",
          "text": [
            "• using TensorFlow Version:  2.3.0\n",
            "WARNING:tensorflow:From <ipython-input-1-714944331f4d>:12: is_gpu_available (from tensorflow.python.framework.test_util) is deprecated and will be removed in a future version.\n",
            "Instructions for updating:\n",
            "Use `tf.config.list_physical_devices('GPU')` instead.\n",
            "• GPU Device Found.\n"
          ],
          "name": "stdout"
        }
      ]
    },
    {
      "cell_type": "markdown",
      "metadata": {
        "id": "Z9ljwiuc8l2j",
        "colab_type": "text"
      },
      "source": [
        "## Download Fashion MNIST Dataset"
      ]
    },
    {
      "cell_type": "code",
      "metadata": {
        "id": "nsWr-dLG8kYt",
        "colab_type": "code",
        "colab": {}
      },
      "source": [
        "#splits = tfds.Split.ALL.subsplit(weighted=(80, 10, 10))\n",
        "\n",
        "#filePath = f\"{getcwd()}/../tmp2/\"\n",
        "#splits, info = tfds.load('fashion_mnist', with_info=True, as_supervised=True, split=splits, data_dir=filePath)\n",
        "\n",
        "#(train_examples, validation_examples, test_examples) = splits\n",
        "\n",
        "#num_examples = info.splits['train'].num_examples\n",
        "#num_classes = info.features['label'].num_classes"
      ],
      "execution_count": null,
      "outputs": []
    },
    {
      "cell_type": "code",
      "metadata": {
        "id": "7jqft-QJ9ASF",
        "colab_type": "code",
        "colab": {}
      },
      "source": [
        "filePath = f\"{getcwd()}/../tmp2/\"\n",
        "train_ds = tfds.load('fashion_mnist', split='train')\n",
        "train_examples, info = tfds.load('fashion_mnist', split='train[:54000]',  with_info=True, as_supervised=True, data_dir = filePath)\n",
        "validation_examples, info = tfds.load('fashion_mnist', split='train[54000:]',  with_info=True, as_supervised=True, data_dir = filePath)\n",
        "test_examples, info = tfds.load('fashion_mnist', split='test',  with_info=True, as_supervised=True, data_dir = filePath)"
      ],
      "execution_count": 19,
      "outputs": []
    },
    {
      "cell_type": "code",
      "metadata": {
        "id": "fLuNHrhsOlG4",
        "colab_type": "code",
        "colab": {}
      },
      "source": [
        "def dataset_length(dataset):\n",
        "    count = 0\n",
        "    for image in dataset:\n",
        "        count += 1\n",
        "    return count"
      ],
      "execution_count": 3,
      "outputs": []
    },
    {
      "cell_type": "code",
      "metadata": {
        "id": "1cBEsbdsPkis",
        "colab_type": "code",
        "colab": {
          "base_uri": "https://localhost:8080/",
          "height": 34
        },
        "outputId": "ac9a25ed-2d7c-460d-dcd0-bb71c76891c1"
      },
      "source": [
        "dataset_length(validation_examples)"
      ],
      "execution_count": 4,
      "outputs": [
        {
          "output_type": "execute_result",
          "data": {
            "text/plain": [
              "6000"
            ]
          },
          "metadata": {
            "tags": []
          },
          "execution_count": 4
        }
      ]
    },
    {
      "cell_type": "code",
      "metadata": {
        "id": "mqpbXSn_bVdI",
        "colab_type": "code",
        "colab": {
          "base_uri": "https://localhost:8080/",
          "height": 34
        },
        "outputId": "63046c9e-f1d4-4faa-ed17-384bf3fef455"
      },
      "source": [
        "num_examples = info.splits['train'].num_examples\n",
        "num_examples"
      ],
      "execution_count": 6,
      "outputs": [
        {
          "output_type": "execute_result",
          "data": {
            "text/plain": [
              "60000"
            ]
          },
          "metadata": {
            "tags": []
          },
          "execution_count": 6
        }
      ]
    },
    {
      "cell_type": "code",
      "metadata": {
        "id": "oRzgARz7GT74",
        "colab_type": "code",
        "colab": {
          "base_uri": "https://localhost:8080/",
          "height": 34
        },
        "outputId": "ee77cd15-bb69-4e37-d22f-00ac060a8ceb"
      },
      "source": [
        "num_classes = info.features['label'].num_classes\n",
        "num_classes"
      ],
      "execution_count": 8,
      "outputs": [
        {
          "output_type": "execute_result",
          "data": {
            "text/plain": [
              "10"
            ]
          },
          "metadata": {
            "tags": []
          },
          "execution_count": 8
        }
      ]
    },
    {
      "cell_type": "code",
      "metadata": {
        "id": "bHjOvzBmdA4B",
        "colab_type": "code",
        "colab": {
          "base_uri": "https://localhost:8080/",
          "height": 34
        },
        "outputId": "d901e532-63ab-45ad-e363-c81e029de87c"
      },
      "source": [
        "sample = next(iter(train_examples))\n",
        "sample[0].shape"
      ],
      "execution_count": 16,
      "outputs": [
        {
          "output_type": "execute_result",
          "data": {
            "text/plain": [
              "TensorShape([28, 28, 1])"
            ]
          },
          "metadata": {
            "tags": []
          },
          "execution_count": 16
        }
      ]
    },
    {
      "cell_type": "code",
      "metadata": {
        "id": "xZYh0Yu0dIJi",
        "colab_type": "code",
        "colab": {
          "base_uri": "https://localhost:8080/",
          "height": 34
        },
        "outputId": "2e0ce2ae-7aba-46a3-d947-b7b1bd59aa07"
      },
      "source": [
        "sample[1]"
      ],
      "execution_count": 17,
      "outputs": [
        {
          "output_type": "execute_result",
          "data": {
            "text/plain": [
              "<tf.Tensor: shape=(), dtype=int64, numpy=2>"
            ]
          },
          "metadata": {
            "tags": []
          },
          "execution_count": 17
        }
      ]
    },
    {
      "cell_type": "code",
      "metadata": {
        "id": "o_-SI6EUGg7i",
        "colab_type": "code",
        "colab": {}
      },
      "source": [
        "class_names = ['T-shirt_top', 'Trouser', 'Pullover', 'Dress', 'Coat',\n",
        "               'Sandal', 'Shirt', 'Sneaker', 'Bag', 'Ankle boot']"
      ],
      "execution_count": 7,
      "outputs": []
    },
    {
      "cell_type": "code",
      "metadata": {
        "id": "gHaIxjdgGjVd",
        "colab_type": "code",
        "colab": {}
      },
      "source": [
        "# create a labels.txt file with the class names\n",
        "with open('labels.txt', 'w') as f:\n",
        "  f.write('\\n'.join(class_names)) "
      ],
      "execution_count": 9,
      "outputs": []
    },
    {
      "cell_type": "code",
      "metadata": {
        "id": "MIRn8evUGu-H",
        "colab_type": "code",
        "colab": {}
      },
      "source": [
        "#from google.colab import files\n",
        "#files.download('labels.txt')"
      ],
      "execution_count": null,
      "outputs": []
    },
    {
      "cell_type": "code",
      "metadata": {
        "id": "Ddapzq5bG7kq",
        "colab_type": "code",
        "colab": {}
      },
      "source": [
        "IMG_SIZE = 28"
      ],
      "execution_count": 10,
      "outputs": []
    },
    {
      "cell_type": "markdown",
      "metadata": {
        "id": "lRY5m4BAHE0y",
        "colab_type": "text"
      },
      "source": [
        "## Preprocessing Data"
      ]
    },
    {
      "cell_type": "markdown",
      "metadata": {
        "id": "PMGEUB6YHHNJ",
        "colab_type": "text"
      },
      "source": [
        "### Preprocess"
      ]
    },
    {
      "cell_type": "code",
      "metadata": {
        "id": "BugM81wIHDe7",
        "colab_type": "code",
        "colab": {}
      },
      "source": [
        "def format_example(image, label):\n",
        "  # Cast image to float 32\n",
        "  image = tf.cast(image, dtype=tf.float32)\n",
        "  #Normalize the image in the range [0. 1]\n",
        "  image = image/255.0\n",
        "  label = tf.one_hot(label, num_classes)\n",
        "  return image, label"
      ],
      "execution_count": 11,
      "outputs": []
    },
    {
      "cell_type": "code",
      "metadata": {
        "id": "v6hQ80S2J3ss",
        "colab_type": "code",
        "colab": {}
      },
      "source": [
        "BATCH_SIZE = 256"
      ],
      "execution_count": 12,
      "outputs": []
    },
    {
      "cell_type": "markdown",
      "metadata": {
        "id": "Fl6N3E61J8j0",
        "colab_type": "text"
      },
      "source": [
        "## Create Datasets from Images and Labels"
      ]
    },
    {
      "cell_type": "code",
      "metadata": {
        "id": "JXkQTmT_J7XJ",
        "colab_type": "code",
        "colab": {}
      },
      "source": [
        "# Create Datasets\n",
        "train_batches = train_examples.cache().shuffle(num_examples//4).batch(BATCH_SIZE).map(format_example).prefetch(1)\n",
        "validation_batches = validation_examples.cache().batch(BATCH_SIZE).map(format_example)\n",
        "test_batches = test_examples.map(format_example).batch(1)"
      ],
      "execution_count": 14,
      "outputs": []
    },
    {
      "cell_type": "code",
      "metadata": {
        "id": "DAAlJx1lQbhD",
        "colab_type": "code",
        "colab": {}
      },
      "source": [
        "batch_sample = next(iter(train_batches))"
      ],
      "execution_count": 21,
      "outputs": []
    },
    {
      "cell_type": "code",
      "metadata": {
        "id": "giiEvZlnQfqK",
        "colab_type": "code",
        "colab": {}
      },
      "source": [
        "#tf.squeeze(batch_sample[0][0]).numpy()"
      ],
      "execution_count": null,
      "outputs": []
    },
    {
      "cell_type": "code",
      "metadata": {
        "id": "BQrgFZ26Qp1S",
        "colab_type": "code",
        "colab": {
          "base_uri": "https://localhost:8080/",
          "height": 34
        },
        "outputId": "a2ff2af6-a516-402a-97d9-2f8e320aa4c6"
      },
      "source": [
        "batch_sample[0][0].numpy().argmax()"
      ],
      "execution_count": 24,
      "outputs": [
        {
          "output_type": "execute_result",
          "data": {
            "text/plain": [
              "47"
            ]
          },
          "metadata": {
            "tags": []
          },
          "execution_count": 24
        }
      ]
    },
    {
      "cell_type": "code",
      "metadata": {
        "id": "NYq__iSKQv0x",
        "colab_type": "code",
        "colab": {}
      },
      "source": [
        "def show_batch(x,y,shape = None):\n",
        "    \"\"\"\n",
        "    input: \n",
        "        x(Tensor[num_images, rows, columns]): images tensor\n",
        "        y(array): labels\n",
        "        shape(tuple): (rows,col) \n",
        "    output:\n",
        "        grid of smaple images\n",
        "    \"\"\"\n",
        "\n",
        "    if not shape:\n",
        "        shape = (int(x.shape[0]**0.5), int(x.shape[0]**0.5))\n",
        "\n",
        "    fig, axs = plt.subplots(nrows= shape[0], ncols=shape[1], figsize = (12,8))\n",
        "    index = 0\n",
        "    for row in axs:\n",
        "        for ax in row:\n",
        "            ax.imshow(tf.squeeze(x[index]).numpy())\n",
        "            ax.set_xlabel(class_names[y[index].numpy().argmax()])\n",
        "            index+=1\n",
        "\n",
        "    # plt.subplots_adjust(wspace = 0.2, hspace = 0.5) \n",
        "    fig.tight_layout()\n",
        "    plt.show()"
      ],
      "execution_count": 25,
      "outputs": []
    },
    {
      "cell_type": "code",
      "metadata": {
        "id": "XwXo5t5RRywT",
        "colab_type": "code",
        "colab": {
          "base_uri": "https://localhost:8080/",
          "height": 585
        },
        "outputId": "2bd8e6fc-f477-42cb-b987-02f4f49fde42"
      },
      "source": [
        "show_batch(batch_sample[0], batch_sample[1], (4, 4))"
      ],
      "execution_count": 29,
      "outputs": [
        {
          "output_type": "display_data",
          "data": {
            "image/png": "[encoded data removed]",
            "text/plain": [
              "<Figure size 864x576 with 16 Axes>"
            ]
          },
          "metadata": {
            "tags": [],
            "needs_background": "light"
          }
        }
      ]
    },
    {
      "cell_type": "markdown",
      "metadata": {
        "id": "-sThc-UtKaKa",
        "colab_type": "text"
      },
      "source": [
        "## Building the Model"
      ]
    },
    {
      "cell_type": "code",
      "metadata": {
        "id": "KAvJr2tVKZan",
        "colab_type": "code",
        "colab": {}
      },
      "source": [
        "model = tf.keras.Sequential([\n",
        "        tf.keras.layers.Conv2D(16, (3,3), activation='relu', input_shape=(28,28,1)),\n",
        "        tf.keras.layers.MaxPooling2D(2, 2),\n",
        "        tf.keras.layers.Conv2D(32, (3,3), activation='relu'),\n",
        "        tf.keras.layers.Flatten(),\n",
        "        tf.keras.layers.Dense(64, activation='relu'),\n",
        "        tf.keras.layers.Dense(num_classes, activation='softmax')\n",
        "])\n",
        "\n",
        "model.compile(optimizer='adam',\n",
        "              loss='categorical_crossentropy',\n",
        "              metrics = ['accuracy'])"
      ],
      "execution_count": 30,
      "outputs": []
    },
    {
      "cell_type": "code",
      "metadata": {
        "id": "PINXXqJUSC-k",
        "colab_type": "code",
        "colab": {
          "base_uri": "https://localhost:8080/",
          "height": 369
        },
        "outputId": "b77df138-fc8d-485a-e5e4-0aea15abaa9e"
      },
      "source": [
        "model.summary()"
      ],
      "execution_count": 31,
      "outputs": [
        {
          "output_type": "stream",
          "text": [
            "Model: \"sequential\"\n",
            "_________________________________________________________________\n",
            "Layer (type)                 Output Shape              Param #   \n",
            "=================================================================\n",
            "conv2d (Conv2D)              (None, 26, 26, 16)        160       \n",
            "_________________________________________________________________\n",
            "max_pooling2d (MaxPooling2D) (None, 13, 13, 16)        0         \n",
            "_________________________________________________________________\n",
            "conv2d_1 (Conv2D)            (None, 11, 11, 32)        4640      \n",
            "_________________________________________________________________\n",
            "flatten (Flatten)            (None, 3872)              0         \n",
            "_________________________________________________________________\n",
            "dense (Dense)                (None, 64)                247872    \n",
            "_________________________________________________________________\n",
            "dense_1 (Dense)              (None, 10)                650       \n",
            "=================================================================\n",
            "Total params: 253,322\n",
            "Trainable params: 253,322\n",
            "Non-trainable params: 0\n",
            "_________________________________________________________________\n"
          ],
          "name": "stdout"
        }
      ]
    },
    {
      "cell_type": "code",
      "metadata": {
        "id": "4kyX_tgnMBWZ",
        "colab_type": "code",
        "colab": {
          "base_uri": "https://localhost:8080/",
          "height": 369
        },
        "outputId": "f805df89-f9bf-427c-f9c7-f238fc33fee5"
      },
      "source": [
        "history = model.fit(train_batches, epochs=10, validation_data= validation_batches)"
      ],
      "execution_count": 32,
      "outputs": [
        {
          "output_type": "stream",
          "text": [
            "Epoch 1/10\n",
            "211/211 [==============================] - 7s 31ms/step - loss: 0.5986 - accuracy: 0.7890 - val_loss: 0.3928 - val_accuracy: 0.8605\n",
            "Epoch 2/10\n",
            "211/211 [==============================] - 1s 5ms/step - loss: 0.3768 - accuracy: 0.8668 - val_loss: 0.3416 - val_accuracy: 0.8802\n",
            "Epoch 3/10\n",
            "211/211 [==============================] - 1s 5ms/step - loss: 0.3298 - accuracy: 0.8830 - val_loss: 0.3143 - val_accuracy: 0.8857\n",
            "Epoch 4/10\n",
            "211/211 [==============================] - 1s 5ms/step - loss: 0.2965 - accuracy: 0.8955 - val_loss: 0.2900 - val_accuracy: 0.8958\n",
            "Epoch 5/10\n",
            "211/211 [==============================] - 1s 5ms/step - loss: 0.2766 - accuracy: 0.9023 - val_loss: 0.2755 - val_accuracy: 0.9017\n",
            "Epoch 6/10\n",
            "211/211 [==============================] - 1s 5ms/step - loss: 0.2600 - accuracy: 0.9054 - val_loss: 0.2775 - val_accuracy: 0.9025\n",
            "Epoch 7/10\n",
            "211/211 [==============================] - 1s 5ms/step - loss: 0.2489 - accuracy: 0.9099 - val_loss: 0.2748 - val_accuracy: 0.9018\n",
            "Epoch 8/10\n",
            "211/211 [==============================] - 1s 5ms/step - loss: 0.2289 - accuracy: 0.9169 - val_loss: 0.2550 - val_accuracy: 0.9068\n",
            "Epoch 9/10\n",
            "211/211 [==============================] - 1s 5ms/step - loss: 0.2223 - accuracy: 0.9190 - val_loss: 0.2324 - val_accuracy: 0.9160\n",
            "Epoch 10/10\n",
            "211/211 [==============================] - 1s 5ms/step - loss: 0.2075 - accuracy: 0.9242 - val_loss: 0.2374 - val_accuracy: 0.9137\n"
          ],
          "name": "stdout"
        }
      ]
    },
    {
      "cell_type": "markdown",
      "metadata": {
        "id": "lk3A6YCRd9RR",
        "colab_type": "text"
      },
      "source": [
        "## Exporting to TFLite"
      ]
    },
    {
      "cell_type": "code",
      "metadata": {
        "id": "UANEou-6MH41",
        "colab_type": "code",
        "colab": {
          "base_uri": "https://localhost:8080/",
          "height": 283
        },
        "outputId": "86d8a70c-1b0f-4de5-d4c8-0329a6d93835"
      },
      "source": [
        "# Use tf.saved_model API to save the model in the SavedModel format\n",
        "export_dir = 'saved_model/1'\n",
        "\n",
        "tf.saved_model.save(model, export_dir)"
      ],
      "execution_count": 34,
      "outputs": [
        {
          "output_type": "stream",
          "text": [
            "WARNING:tensorflow:From /usr/local/lib/python3.6/dist-packages/tensorflow/python/training/tracking/tracking.py:111: Model.state_updates (from tensorflow.python.keras.engine.training) is deprecated and will be removed in a future version.\n",
            "Instructions for updating:\n",
            "This property should not be used in TensorFlow 2.0, as updates are applied automatically.\n"
          ],
          "name": "stdout"
        },
        {
          "output_type": "stream",
          "text": [
            "WARNING:tensorflow:From /usr/local/lib/python3.6/dist-packages/tensorflow/python/training/tracking/tracking.py:111: Model.state_updates (from tensorflow.python.keras.engine.training) is deprecated and will be removed in a future version.\n",
            "Instructions for updating:\n",
            "This property should not be used in TensorFlow 2.0, as updates are applied automatically.\n"
          ],
          "name": "stderr"
        },
        {
          "output_type": "stream",
          "text": [
            "WARNING:tensorflow:From /usr/local/lib/python3.6/dist-packages/tensorflow/python/training/tracking/tracking.py:111: Layer.updates (from tensorflow.python.keras.engine.base_layer) is deprecated and will be removed in a future version.\n",
            "Instructions for updating:\n",
            "This property should not be used in TensorFlow 2.0, as updates are applied automatically.\n"
          ],
          "name": "stdout"
        },
        {
          "output_type": "stream",
          "text": [
            "WARNING:tensorflow:From /usr/local/lib/python3.6/dist-packages/tensorflow/python/training/tracking/tracking.py:111: Layer.updates (from tensorflow.python.keras.engine.base_layer) is deprecated and will be removed in a future version.\n",
            "Instructions for updating:\n",
            "This property should not be used in TensorFlow 2.0, as updates are applied automatically.\n"
          ],
          "name": "stderr"
        },
        {
          "output_type": "stream",
          "text": [
            "INFO:tensorflow:Assets written to: saved_model/1/assets\n"
          ],
          "name": "stdout"
        },
        {
          "output_type": "stream",
          "text": [
            "INFO:tensorflow:Assets written to: saved_model/1/assets\n"
          ],
          "name": "stderr"
        }
      ]
    },
    {
      "cell_type": "code",
      "metadata": {
        "id": "LAkOmWBIeh7o",
        "colab_type": "code",
        "colab": {}
      },
      "source": [
        "# Select mode of optimization\n",
        "mode = \"Speed\"\n",
        "\n",
        "if mode == 'Storage':\n",
        "  optimization = tf.lite.Optimize.OPTIMIZE_FOR_SIZE\n",
        "elif mode == 'Speed':\n",
        "  optimization = tf.lite.Optimize.OPTIMIZE_FOR_LATENCY\n",
        "else:\n",
        "  optimization = tf.lite.Optimize.DEFAULT"
      ],
      "execution_count": 35,
      "outputs": []
    },
    {
      "cell_type": "code",
      "metadata": {
        "id": "h3ZR6wqje9DW",
        "colab_type": "code",
        "colab": {}
      },
      "source": [
        "# Use TFLiteConverter SavedModel API to initialize the converter\n",
        "converter = tf.lite.TFLiteConverter.from_saved_model(export_dir)\n",
        "\n",
        "# Set the optimization\n",
        "converter.optimizations = [optimization]\n",
        "\n",
        "# Invoke the converter to finally generate the TFLite model\n",
        "tflite_model = converter.convert()"
      ],
      "execution_count": 36,
      "outputs": []
    },
    {
      "cell_type": "code",
      "metadata": {
        "id": "stKZu65jfYV9",
        "colab_type": "code",
        "colab": {
          "base_uri": "https://localhost:8080/",
          "height": 34
        },
        "outputId": "e11a30de-3013-47b8-8aac-55a24a8ddf7c"
      },
      "source": [
        "tflite_model_file = pathlib.Path('./model.tflite')\n",
        "tflite_model_file.write_bytes(tflite_model)"
      ],
      "execution_count": 37,
      "outputs": [
        {
          "output_type": "execute_result",
          "data": {
            "text/plain": [
              "259664"
            ]
          },
          "metadata": {
            "tags": []
          },
          "execution_count": 37
        }
      ]
    },
    {
      "cell_type": "markdown",
      "metadata": {
        "id": "g6pxbpZbfl7d",
        "colab_type": "text"
      },
      "source": [
        "## Test the Model with TFLite Interpreter"
      ]
    },
    {
      "cell_type": "code",
      "metadata": {
        "id": "5byb5x2rfjjs",
        "colab_type": "code",
        "colab": {}
      },
      "source": [
        "# Load TFLite model and allocate tensors.\n",
        "interpreter = tf.lite.Interpreter(model_content=tflite_model)\n",
        "interpreter.allocate_tensors()\n",
        "\n",
        "input_index = interpreter.get_input_details()[0][\"index\"]\n",
        "output_index = interpreter.get_output_details()[0][\"index\"]"
      ],
      "execution_count": 38,
      "outputs": []
    },
    {
      "cell_type": "code",
      "metadata": {
        "id": "-_Yq6QPAgPL-",
        "colab_type": "code",
        "colab": {}
      },
      "source": [
        "# Gather results for the randomly sampled test images\n",
        "predictions = []\n",
        "test_labels = []\n",
        "test_images = []\n",
        "\n",
        "for img, label in test_batches.take(50):\n",
        "  interpreter.set_tensor(input_index, img)\n",
        "  interpreter.invoke()\n",
        "  predictions.append(interpreter.get_tensor(output_index))\n",
        "  test_labels.append(label[0])\n",
        "  test_images.append(np.array(img))"
      ],
      "execution_count": 39,
      "outputs": []
    },
    {
      "cell_type": "code",
      "metadata": {
        "id": "TkrhkBwDgvcm",
        "colab_type": "code",
        "colab": {}
      },
      "source": [
        "#class_names"
      ],
      "execution_count": 51,
      "outputs": []
    },
    {
      "cell_type": "code",
      "metadata": {
        "id": "JLNgmkO5gxzR",
        "colab_type": "code",
        "colab": {}
      },
      "source": [
        "#@title Utility functions for plotting\n",
        "# Utilities for plotting\n",
        "\n",
        "def plot_image(i, predictions_array, true_label, img):\n",
        "    predictions_array, true_label, img = predictions_array[i], true_label[i], img[i]\n",
        "    plt.grid(False)\n",
        "    plt.xticks([])\n",
        "    plt.yticks([])\n",
        "\n",
        "    img = np.squeeze(img)\n",
        "\n",
        "    plt.imshow(img, cmap = plt.cm.binary)\n",
        "\n",
        "    predicted_label = np.argmax(predictions_array)\n",
        "\n",
        "    if predicted_label == true_label.numpy().argmax():\n",
        "        color = 'green'\n",
        "    else:\n",
        "        color = 'red'\n",
        "\n",
        "    plt.xlabel(\"{} {:2.0f}% ({})\".format(class_names[predicted_label],\n",
        "                                         100*np.max(predictions_array),\n",
        "                                         class_names[true_label.numpy().argmax()]),\n",
        "                                         color=color)\n",
        "    \n",
        "def plot_value_array(i, predictions_array, true_label):\n",
        "    predictions_array, true_label = predictions_array[i], true_label[i]\n",
        "    plt.grid(False)\n",
        "    plt.xticks(list(range(10)), class_names, rotation='vertical')\n",
        "    plt.yticks([])\n",
        "    thisplot = plt.bar(range(10), predictions_array[0], color=\"#777777\")\n",
        "    plt.ylim([0, 1])\n",
        "    predicted_label = np.argmax(predictions_array[0])\n",
        "\n",
        "    thisplot[predicted_label].set_color('red')\n",
        "    thisplot[true_label.numpy().argmax()].set_color('green')"
      ],
      "execution_count": 46,
      "outputs": []
    },
    {
      "cell_type": "code",
      "metadata": {
        "id": "6q2M9Jb2jF7F",
        "colab_type": "code",
        "colab": {
          "base_uri": "https://localhost:8080/",
          "height": 489
        },
        "outputId": "19102c89-b547-4f40-80e3-e6621b14c6e4"
      },
      "source": [
        "#@title Visualize the outputs {run: \"auto\"}\n",
        "index = 33 #@param {type:\"slider\", min:1, max:50, step:1}\n",
        "plt.figure(figsize=(6,3))\n",
        "plt.subplot(1, 2, 1)\n",
        "plot_image(index, predictions, test_labels, test_images)\n",
        "plt.show()\n",
        "plot_value_array(index, predictions, test_labels)\n",
        "plt.show()"
      ],
      "execution_count": 50,
      "outputs": [
        {
          "output_type": "display_data",
          "data": {
            "image/png": "[encoded data removed]",
            "text/plain": [
              "<Figure size 432x216 with 1 Axes>"
            ]
          },
          "metadata": {
            "tags": []
          }
        },
        {
          "output_type": "display_data",
          "data": {
            "image/png": "[encoded data removed]",
            "text/plain": [
              "<Figure size 432x288 with 1 Axes>"
            ]
          },
          "metadata": {
            "tags": [],
            "needs_background": "light"
          }
        }
      ]
    },
    {
      "cell_type": "code",
      "metadata": {
        "id": "WotA71OKjjty",
        "colab_type": "code",
        "colab": {}
      },
      "source": [
        ""
      ],
      "execution_count": null,
      "outputs": []
    }
  ]
}